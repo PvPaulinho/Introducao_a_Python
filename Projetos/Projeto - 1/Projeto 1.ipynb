{
 "cells": [
  {
   "cell_type": "code",
   "execution_count": 17,
   "id": "c7f76f70",
   "metadata": {},
   "outputs": [
    {
     "name": "stdout",
     "output_type": "stream",
     "text": [
      "Introdução à Python - Projeto 1\n",
      "Aluno: Paulo Victor Damasceno e Silva\n",
      "Matrícula: 174350045\n",
      "\n",
      "\n",
      "Jogo pedra, papel, tesoura\n",
      "\n",
      "\n",
      "Regras do jogo:\n",
      "Pedra vs Papel = Papel é o vencedor\n",
      "Pedra vs Tesoura = Pedra é o vencedor\n",
      "Papel vs Tesoura = Tesoura é o vencedor\n",
      "\n",
      "\n",
      "Escolha: Pedra, Papel ou Tesoura.\n",
      "Tesoura\n",
      "Você escolheu: Tesoura\n",
      "O computador escolheu: Papel\n",
      "Você venceu\n"
     ]
    }
   ],
   "source": [
    "print(\"Introdução à Python - Projeto 1\")\n",
    "print(\"Aluno: Paulo Victor Damasceno e Silva\")\n",
    "print(\"Matrícula: 174350045\")\n",
    "\n",
    "print(\"\\n\\nJogo pedra, papel, tesoura\\n\\n\")\n",
    "print(\"Regras do jogo:\")\n",
    "print(\"Pedra vs Papel = Papel é o vencedor\")\n",
    "print(\"Pedra vs Tesoura = Pedra é o vencedor\")\n",
    "print(\"Papel vs Tesoura = Tesoura é o vencedor\")\n",
    "\n",
    "import random\n",
    "print(\"\\n\\nEscolha: Pedra, Papel ou Tesoura.\")\n",
    "Usuário = input()\n",
    "print(\"Você escolheu: \" + Usuário)\n",
    "Computador = random.randrange(1,3,1)\n",
    "RC = int (Computador)\n",
    "EscolhaComputador = 0\n",
    "if RC == 1:\n",
    "    EscolhaComputador = \"Pedra\"\n",
    "if RC == 2:\n",
    "    EscolhaComputador = \"Papel\"\n",
    "if RC == 3:\n",
    "    EscolhaComputador = \"Tesoura\"\n",
    "print(\"O computador escolheu: \" + EscolhaComputador)\n",
    "if Usuário == \"Pedra\":\n",
    "    if EscolhaComputador == \"Papel\":\n",
    "        print('O computador venceu')\n",
    "    if EscolhaComputador == \"Pedra\":\n",
    "        print('Teve um empate entre você e o computador')\n",
    "    if EscolhaComputador == \"Tesoura\":\n",
    "        print(\"Você venceu\")\n",
    "if Usuário == \"Papel\":\n",
    "    if EscolhaComputador == \"Tesoura\":\n",
    "        print('O computador venceu')\n",
    "    if EscolhaComputador == \"Papel\":\n",
    "        print('Teve um empate entre você e o computador')\n",
    "    if EscolhaComputador == \"Pedra\":\n",
    "        print(\"Você venceu\")\n",
    "if Usuário == \"Tesoura\":\n",
    "    if EscolhaComputador == \"Pedra\":\n",
    "        print('O computador venceu')\n",
    "    if EscolhaComputador == \"Tesoura\":\n",
    "        print('Teve um empate entre você e o computador')\n",
    "    if EscolhaComputador == \"Papel\":\n",
    "        print(\"Você venceu\")"
   ]
  }
 ],
 "metadata": {
  "kernelspec": {
   "display_name": "Python 3",
   "language": "python",
   "name": "python3"
  },
  "language_info": {
   "codemirror_mode": {
    "name": "ipython",
    "version": 3
   },
   "file_extension": ".py",
   "mimetype": "text/x-python",
   "name": "python",
   "nbconvert_exporter": "python",
   "pygments_lexer": "ipython3",
   "version": "3.8.8"
  }
 },
 "nbformat": 4,
 "nbformat_minor": 5
}
