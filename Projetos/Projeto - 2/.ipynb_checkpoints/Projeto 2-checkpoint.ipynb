{
 "cells": [
  {
   "cell_type": "code",
   "execution_count": 2,
   "id": "62f27806",
   "metadata": {},
   "outputs": [
    {
     "name": "stdout",
     "output_type": "stream",
     "text": [
      "Introdução à Python - Projeto 2\n",
      "Aluno: Paulo Victor Damasceno e Silva\n",
      "Matrícula: 174350045\n",
      "\n",
      "Calculadora\n"
     ]
    }
   ],
   "source": [
    "print(\"Introdução à Python - Projeto 2\")\n",
    "print(\"Aluno: Paulo Victor Damasceno e Silva\")\n",
    "print(\"Matrícula: 174350045\")\n",
    "print(\"\\nCalculadora\")"
   ]
  },
  {
   "cell_type": "code",
   "execution_count": 17,
   "id": "dc3033a8",
   "metadata": {},
   "outputs": [
    {
     "name": "stdout",
     "output_type": "stream",
     "text": [
      "Calculadora\n",
      "Digite o primeiro número: \n",
      "1.5\n",
      "Digite o operador da operação que deseja fazer entre : '+','-','/','*': \n",
      "+\n",
      "Digite o segundo número: \n",
      "2\n",
      "O resultado da soma é:  3.5\n"
     ]
    }
   ],
   "source": [
    "def soma (n1,n2):\n",
    "    total = n1 + n2\n",
    "    print(\"O resultado da soma é: \", total)\n",
    "\n",
    "def subtração (n1,n2):\n",
    "    total = n1 - n2\n",
    "    print(\"O resultado da subtração é: \", total)\n",
    "\n",
    "def divisão (n1,n2):\n",
    "    total = n1/n2\n",
    "    print(\"O resultado da divisão é: \", total)\n",
    "    \n",
    "def multiplicação (n1,n2):\n",
    "    total = n1*n2\n",
    "    print(\"O resultado da multiplicação é: \", total)\n",
    "    \n",
    "\n",
    "print(\"Calculadora\")\n",
    "print(\"Digite o primeiro número: \")\n",
    "n1 = float(input())\n",
    "print(\"Digite o operador da operação que deseja fazer entre : '+','-','/','*': \")\n",
    "op = input()\n",
    "print(\"Digite o segundo número: \")\n",
    "n2 = float(input())\n",
    "\n",
    "if (op == \"+\"):\n",
    "    soma(n1,n2)\n",
    "if (op == \"-\"):\n",
    "    subtração(n1,n2)\n",
    "if (op == \"/\"):\n",
    "    divisão(n1,n2)\n",
    "if (op == \"*\"):\n",
    "    multiplicação(n1,n2)\n"
   ]
  },
  {
   "cell_type": "code",
   "execution_count": 19,
   "id": "d683b218",
   "metadata": {},
   "outputs": [
    {
     "name": "stdout",
     "output_type": "stream",
     "text": [
      "Calculadora\n",
      "Digite o primeiro número: \n",
      "1.5\n",
      "Digite o operador da operação que deseja fazer entre : '+','-','/','*': \n",
      "-\n",
      "Digite o segundo número: \n",
      "1\n",
      "O resultado da subtração é:  0.5\n"
     ]
    }
   ],
   "source": [
    "def soma (n1,n2):\n",
    "    total = n1 + n2\n",
    "    print(\"O resultado da soma é: \", total)\n",
    "\n",
    "def subtração (n1,n2):\n",
    "    total = n1 - n2\n",
    "    print(\"O resultado da subtração é: \", total)\n",
    "\n",
    "def divisão (n1,n2):\n",
    "    total = n1/n2\n",
    "    print(\"O resultado da divisão é: \", total)\n",
    "    \n",
    "def multiplicação (n1,n2):\n",
    "    total = n1*n2\n",
    "    print(\"O resultado da multiplicação é: \", total)\n",
    "    \n",
    "\n",
    "print(\"Calculadora\")\n",
    "print(\"Digite o primeiro número: \")\n",
    "n1 = float(input())\n",
    "print(\"Digite o operador da operação que deseja fazer entre : '+','-','/','*': \")\n",
    "op = input()\n",
    "print(\"Digite o segundo número: \")\n",
    "n2 = float(input())\n",
    "\n",
    "if (op == \"+\"):\n",
    "    soma(n1,n2)\n",
    "if (op == \"-\"):\n",
    "    subtração(n1,n2)\n",
    "if (op == \"/\"):\n",
    "    divisão(n1,n2)\n",
    "if (op == \"*\"):\n",
    "    multiplicação(n1,n2)"
   ]
  },
  {
   "cell_type": "code",
   "execution_count": 29,
   "id": "57829122",
   "metadata": {},
   "outputs": [
    {
     "name": "stdout",
     "output_type": "stream",
     "text": [
      "Calculadora\n",
      "Digite o primeiro número: \n",
      "25\n",
      "Digite o operador da operação que deseja fazer entre : '+','-','/','*': \n",
      "/\n",
      "Digite o segundo número: \n",
      "5\n",
      "O resultado da divisão é:  5.0\n"
     ]
    }
   ],
   "source": [
    "def soma (n1,n2):\n",
    "    total = n1 + n2\n",
    "    print(\"O resultado da soma é: \", total)\n",
    "\n",
    "def subtração (n1,n2):\n",
    "    total = n1 - n2\n",
    "    print(\"O resultado da subtração é: \", total)\n",
    "\n",
    "def divisão (n1,n2):\n",
    "    total = n1/n2\n",
    "    print(\"O resultado da divisão é: \", total)\n",
    "    \n",
    "def multiplicação (n1,n2):\n",
    "    total = n1*n2\n",
    "    print(\"O resultado da multiplicação é: \", total)\n",
    "    \n",
    "\n",
    "print(\"Calculadora\")\n",
    "print(\"Digite o primeiro número: \")\n",
    "n1 = float(input())\n",
    "print(\"Digite o operador da operação que deseja fazer entre : '+','-','/','*': \")\n",
    "op = input()\n",
    "print(\"Digite o segundo número: \")\n",
    "n2 = float(input())\n",
    "\n",
    "if (op == \"+\"):\n",
    "    soma(n1,n2)\n",
    "if (op == \"-\"):\n",
    "    subtração(n1,n2)\n",
    "if (op == \"/\"):\n",
    "    divisão(n1,n2)\n",
    "if (op == \"*\"):\n",
    "    multiplicação(n1,n2)"
   ]
  },
  {
   "cell_type": "code",
   "execution_count": 31,
   "id": "f28e3656",
   "metadata": {},
   "outputs": [
    {
     "name": "stdout",
     "output_type": "stream",
     "text": [
      "Calculadora\n",
      "Digite o primeiro número: \n",
      "5\n",
      "Digite o operador da operação que deseja fazer entre : '+','-','/','*': \n",
      "*\n",
      "Digite o segundo número: \n",
      "3\n",
      "O resultado da multiplicação é:  15.0\n"
     ]
    }
   ],
   "source": [
    "def soma (n1,n2):\n",
    "    total = n1 + n2\n",
    "    print(\"O resultado da soma é: \", total)\n",
    "\n",
    "def subtração (n1,n2):\n",
    "    total = n1 - n2\n",
    "    print(\"O resultado da subtração é: \", total)\n",
    "\n",
    "def divisão (n1,n2):\n",
    "    total = n1/n2\n",
    "    print(\"O resultado da divisão é: \", total)\n",
    "    \n",
    "def multiplicação (n1,n2):\n",
    "    total = n1*n2\n",
    "    print(\"O resultado da multiplicação é: \", total)\n",
    "    \n",
    "\n",
    "print(\"Calculadora\")\n",
    "print(\"Digite o primeiro número: \")\n",
    "n1 = float(input())\n",
    "print(\"Digite o operador da operação que deseja fazer entre : '+','-','/','*': \")\n",
    "op = input()\n",
    "print(\"Digite o segundo número: \")\n",
    "n2 = float(input())\n",
    "\n",
    "if (op == \"+\"):\n",
    "    soma(n1,n2)\n",
    "if (op == \"-\"):\n",
    "    subtração(n1,n2)\n",
    "if (op == \"/\"):\n",
    "    divisão(n1,n2)\n",
    "if (op == \"*\"):\n",
    "    multiplicação(n1,n2)"
   ]
  }
 ],
 "metadata": {
  "kernelspec": {
   "display_name": "Python 3",
   "language": "python",
   "name": "python3"
  },
  "language_info": {
   "codemirror_mode": {
    "name": "ipython",
    "version": 3
   },
   "file_extension": ".py",
   "mimetype": "text/x-python",
   "name": "python",
   "nbconvert_exporter": "python",
   "pygments_lexer": "ipython3",
   "version": "3.8.8"
  }
 },
 "nbformat": 4,
 "nbformat_minor": 5
}
