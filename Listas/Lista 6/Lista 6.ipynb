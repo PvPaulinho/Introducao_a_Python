{
 "cells": [
  {
   "cell_type": "code",
   "execution_count": 1,
   "id": "de73c1de",
   "metadata": {},
   "outputs": [
    {
     "name": "stdout",
     "output_type": "stream",
     "text": [
      "Introdução à Python - Lista 5\n",
      "Aluno: Paulo Victor Damasceno e Silva\n",
      "Matrícula: 174350045\n"
     ]
    }
   ],
   "source": [
    "print(\"Introdução à Python - Lista 5\")\n",
    "print(\"Aluno: Paulo Victor Damasceno e Silva\")\n",
    "print(\"Matrícula: 174350045\")"
   ]
  },
  {
   "cell_type": "code",
   "execution_count": 19,
   "id": "5a8e5576",
   "metadata": {},
   "outputs": [
    {
     "name": "stdout",
     "output_type": "stream",
     "text": [
      "0.0009982585906982422\n",
      "0.015993118286132812\n",
      "O método numpy é mais rapido do que o método de manipulçao de vetores com o for\n"
     ]
    }
   ],
   "source": [
    "#Exercício 1\n",
    "\n",
    "import numpy as np\n",
    "import time\n",
    "a = np.arange(100000)\n",
    "b = list(range(0,100000,1))\n",
    "start1 = time.time ()\n",
    "af = a * 2\n",
    "end1 = time.time ()\n",
    "time1 = end1 - start1\n",
    "start2 = time.time ()\n",
    "for i in b:\n",
    "    b[i] = b[i] * 2\n",
    "end2 = time.time ()\n",
    "time2 = end2 - start2\n",
    "print(time1)\n",
    "print(time2)\n",
    "if (time1 < time2):\n",
    "    print(\"O método numpy é mais rapido do que o método de manipulçao de vetores com o for\")\n",
    "else:\n",
    "    print(\"O método de manipulçao de vetores com o for é mais rapido do que o método de numpy\")"
   ]
  },
  {
   "cell_type": "code",
   "execution_count": 24,
   "id": "7c05efe7",
   "metadata": {},
   "outputs": [
    {
     "name": "stdout",
     "output_type": "stream",
     "text": [
      "[0 1 2 3 4 0 0 0 0 9]\n"
     ]
    }
   ],
   "source": [
    "#Exercício 2\n",
    "\n",
    "a = np.arange(10)\n",
    "a[5] = 0\n",
    "a[6] = 0\n",
    "a[7] = 0\n",
    "a[8] = 0\n",
    "print(a)"
   ]
  },
  {
   "cell_type": "code",
   "execution_count": 37,
   "id": "b49c8d47",
   "metadata": {},
   "outputs": [],
   "source": [
    "#Exercício 3\n",
    "\n",
    "a = np.arange(10,10)\n",
    "for i in a:\n",
    "    for n in a:\n",
    "        for j in a:\n",
    "            print(a[i][n][j])"
   ]
  },
  {
   "cell_type": "code",
   "execution_count": 39,
   "id": "28b9fcfb",
   "metadata": {},
   "outputs": [],
   "source": [
    "#Exercício 4\n",
    "\n",
    "a = np.arange(10,10,10)\n",
    "for i in a:\n",
    "    print(a[3][i])\n",
    "    print(a[1,2][2,3])"
   ]
  },
  {
   "cell_type": "code",
   "execution_count": 41,
   "id": "2ce91921",
   "metadata": {},
   "outputs": [
    {
     "name": "stdout",
     "output_type": "stream",
     "text": [
      "[[ 0  5 10]\n",
      " [ 1  6 11]\n",
      " [ 2  7 12]\n",
      " [ 3  8 13]\n",
      " [ 4  9 14]]\n"
     ]
    }
   ],
   "source": [
    "#Exercício 5\n",
    "\n",
    "arr = np.arange(15).reshape(3,5)\n",
    "arrT = arr.T\n",
    "print(arrT)"
   ]
  }
 ],
 "metadata": {
  "kernelspec": {
   "display_name": "Python 3",
   "language": "python",
   "name": "python3"
  },
  "language_info": {
   "codemirror_mode": {
    "name": "ipython",
    "version": 3
   },
   "file_extension": ".py",
   "mimetype": "text/x-python",
   "name": "python",
   "nbconvert_exporter": "python",
   "pygments_lexer": "ipython3",
   "version": "3.8.8"
  }
 },
 "nbformat": 4,
 "nbformat_minor": 5
}
