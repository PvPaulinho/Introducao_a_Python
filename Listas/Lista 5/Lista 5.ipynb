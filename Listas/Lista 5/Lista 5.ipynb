{
 "cells": [
  {
   "cell_type": "code",
   "execution_count": 1,
   "id": "87f1c16f",
   "metadata": {},
   "outputs": [
    {
     "name": "stdout",
     "output_type": "stream",
     "text": [
      "Introdução à Python - Lista 5\n",
      "Aluno: Paulo Victor Damasceno e Silva\n",
      "Matrícula: 174350045\n"
     ]
    }
   ],
   "source": [
    "print(\"Introdução à Python - Lista 5\")\n",
    "print(\"Aluno: Paulo Victor Damasceno e Silva\")\n",
    "print(\"Matrícula: 174350045\")"
   ]
  },
  {
   "cell_type": "code",
   "execution_count": 4,
   "id": "224ab27b",
   "metadata": {},
   "outputs": [
    {
     "name": "stdout",
     "output_type": "stream",
     "text": [
      "['UNIVERSIDADE', 'universidade', 12]\n",
      "['FEDERAL', 'federal', 7]\n",
      "['DE', 'de', 2]\n",
      "['SAO', 'sao', 3]\n",
      "['JOAO', 'joao', 4]\n",
      "['DEL', 'del', 3]\n",
      "['REI', 'rei', 3]\n"
     ]
    }
   ],
   "source": [
    "#Exercício 1 (Enunciado)\n",
    "\n",
    "palavras = 'Universidade Federal de Sao Joao del Rei'.split(' ')\n",
    "resultado = [[w.upper(),w.lower (), len (w)] for w in palavras]\n",
    "for i in resultado:\n",
    "    print(i)"
   ]
  },
  {
   "cell_type": "code",
   "execution_count": 15,
   "id": "fbbf4682",
   "metadata": {},
   "outputs": [
    {
     "data": {
      "text/plain": [
       "[('UNIVERSIDADE', 'universidade', 12),\n",
       " ('FEDERAL', 'federal', 7),\n",
       " ('DE', 'de', 2),\n",
       " ('SAO', 'sao', 3),\n",
       " ('JOAO', 'joao', 4),\n",
       " ('DEL', 'del', 3),\n",
       " ('REI', 'rei', 3)]"
      ]
     },
     "execution_count": 15,
     "metadata": {},
     "output_type": "execute_result"
    }
   ],
   "source": [
    "#Exercício 1\n",
    "\n",
    "palavras = 'Universidade Federal de Sao Joao del Rei'.split(' ')\n",
    "resultado = lambda R: (R.upper(), R.lower(), len(R))\n",
    "resultado = map(resultado, palavras)\n",
    "list (resultado)"
   ]
  },
  {
   "cell_type": "code",
   "execution_count": 16,
   "id": "fdfdabd3",
   "metadata": {},
   "outputs": [
    {
     "name": "stdout",
     "output_type": "stream",
     "text": [
      "([1, 2], [3, 4], [4, 5], [7, 8])\n",
      "[[1 3 4 7]\n",
      " [2 4 5 8]]\n"
     ]
    }
   ],
   "source": [
    "#Exercício 2\n",
    "\n",
    "import numpy as np\n",
    "matrix = [1,2],[3,4],[4,5],[7,8]\n",
    "print (matrix)\n",
    "matrizT = np.transpose (matrix)\n",
    "print (matrizT)"
   ]
  },
  {
   "cell_type": "code",
   "execution_count": 17,
   "id": "f0be5890",
   "metadata": {},
   "outputs": [
    {
     "name": "stdout",
     "output_type": "stream",
     "text": [
      "[1024, 177147, 16777216]\n"
     ]
    }
   ],
   "source": [
    "#Exercício 3\n",
    "\n",
    "lst_A = [2, 3, 4]\n",
    "lst_B = [10, 11, 12]\n",
    "D = []\n",
    "for i in range (len(lst_A)):\n",
    "    D.append (lst_A[i]**lst_B[i])\n",
    "print(D)"
   ]
  },
  {
   "cell_type": "code",
   "execution_count": 24,
   "id": "09e971cb",
   "metadata": {},
   "outputs": [
    {
     "name": "stdout",
     "output_type": "stream",
     "text": [
      "[-10, -9, -8, -7, -6, -5, -4, -3, -2, -1]\n"
     ]
    }
   ],
   "source": [
    "#Exercício 4\n",
    "\n",
    "Negativos = lambda N: (N<0)\n",
    "R = filter(Negativos,range(-10,10))\n",
    "print(list(R))"
   ]
  },
  {
   "cell_type": "code",
   "execution_count": 31,
   "id": "35bf82f5",
   "metadata": {},
   "outputs": [
    {
     "name": "stdout",
     "output_type": "stream",
     "text": [
      "[2, 3, 5, 7]\n"
     ]
    }
   ],
   "source": [
    "#Exercício 5\n",
    "\n",
    "a = [1,2,3,5,7,9]\n",
    "b = [2,3,5,6,7,8]\n",
    "v = lambda l: (l in a)\n",
    "Comum = filter (v,b)\n",
    "print(list(Comum))"
   ]
  }
 ],
 "metadata": {
  "kernelspec": {
   "display_name": "Python 3",
   "language": "python",
   "name": "python3"
  },
  "language_info": {
   "codemirror_mode": {
    "name": "ipython",
    "version": 3
   },
   "file_extension": ".py",
   "mimetype": "text/x-python",
   "name": "python",
   "nbconvert_exporter": "python",
   "pygments_lexer": "ipython3",
   "version": "3.8.8"
  }
 },
 "nbformat": 4,
 "nbformat_minor": 5
}
