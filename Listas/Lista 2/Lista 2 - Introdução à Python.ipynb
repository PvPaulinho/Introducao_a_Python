{
 "cells": [
  {
   "cell_type": "code",
   "execution_count": 1,
   "id": "e7b706c2",
   "metadata": {},
   "outputs": [
    {
     "name": "stdout",
     "output_type": "stream",
     "text": [
      "Introdução à Python - Lista 2\n",
      "Aluno: Paulo Victor Damasceno e Silva\n",
      "Matrícula: 174350045\n"
     ]
    }
   ],
   "source": [
    "print(\"Introdução à Python - Lista 2\")\n",
    "print(\"Aluno: Paulo Victor Damasceno e Silva\")\n",
    "print(\"Matrícula: 174350045\")"
   ]
  },
  {
   "cell_type": "code",
   "execution_count": 3,
   "id": "930b3312",
   "metadata": {},
   "outputs": [
    {
     "name": "stdout",
     "output_type": "stream",
     "text": [
      "Que dia da semana é hoje? Segunda-Feira\n",
      "Hoje é dia de aula de Python!\n"
     ]
    }
   ],
   "source": [
    "#Exercício 1\n",
    "\n",
    "dia = input(\"Que dia da semana é hoje? \")\n",
    "if dia == \"Segunda-Feira\":\n",
    "    print(\"Hoje é dia de aula de Python!\")\n",
    "else:\n",
    "    print(\"Você precisa estudar Python!\")"
   ]
  },
  {
   "cell_type": "code",
   "execution_count": 16,
   "id": "a96487ef",
   "metadata": {},
   "outputs": [
    {
     "name": "stdout",
     "output_type": "stream",
     "text": [
      "Não tem cerveja na lista, estamos inclundo cerveja na sua lista\n",
      "\n",
      "Esta é a sua nova lista:\n",
      "['Carne de boi', 'Carvão', 'Linguiça', 'Cachaça', 'Sal grosso', 'Azinha/Coxinha', 'Carne de porco', 'Cerveja']\n"
     ]
    }
   ],
   "source": [
    "#Exercício 2\n",
    "\n",
    "Lista = [\"Carne de boi\" , \"Carvão\" , \"Linguiça\" , \"Cachaça\" , \"Sal grosso\" , \"Azinha/Coxinha\" , \"Carne de porco\"]\n",
    "for i in Lista:\n",
    "    if i == \"Cerveja\":\n",
    "        print(\"Tem cerveja na lista\")\n",
    "    else:\n",
    "        print(\"Não tem cerveja na lista, estamos inclundo cerveja na sua lista\")\n",
    "        Lista.append(\"Cerveja\")\n",
    "        break\n",
    "print(\"\\nEsta é a sua nova lista:\\n\" + str(Lista))"
   ]
  },
  {
   "cell_type": "code",
   "execution_count": 23,
   "id": "9434a9a3",
   "metadata": {},
   "outputs": [
    {
     "name": "stdout",
     "output_type": "stream",
     "text": [
      "100\n",
      "102\n",
      "104\n",
      "106\n",
      "108\n",
      "110\n",
      "112\n",
      "114\n",
      "116\n",
      "118\n",
      "120\n",
      "122\n",
      "124\n",
      "126\n",
      "128\n",
      "130\n",
      "132\n",
      "134\n",
      "136\n",
      "138\n",
      "140\n",
      "142\n",
      "144\n",
      "146\n",
      "148\n",
      "150\n"
     ]
    }
   ],
   "source": [
    "#Exerccio 3\n",
    "\n",
    "for i in range(100,151,2):\n",
    "    print(i)"
   ]
  },
  {
   "cell_type": "code",
   "execution_count": 25,
   "id": "cde1ab21",
   "metadata": {},
   "outputs": [
    {
     "name": "stdout",
     "output_type": "stream",
     "text": [
      "0\n",
      "3\n",
      "6\n",
      "\n",
      "O numero 9 foi encontrado. Encerrando o programa\n"
     ]
    }
   ],
   "source": [
    "#Exercício 4\n",
    "\n",
    "x = 0\n",
    "while x < 30:\n",
    "    if x == 9:\n",
    "        print(\"\\nO numero 9 foi encontrado. Encerrando o programa\")\n",
    "        break\n",
    "    else:\n",
    "        print(x)\n",
    "        x = x + 3"
   ]
  },
  {
   "cell_type": "code",
   "execution_count": 38,
   "id": "86f760f8",
   "metadata": {},
   "outputs": [
    {
     "data": {
      "text/plain": [
       "[5, 7, 9, 11, 13, 15, 17, 19, 21, 23, 25, 27, 29, 31, 33, 35, 37, 39, 41, 43]"
      ]
     },
     "execution_count": 38,
     "metadata": {},
     "output_type": "execute_result"
    }
   ],
   "source": [
    "#Exercício 5\n",
    "\n",
    "L = []\n",
    "for i in range(5,45,2):\n",
    "    L.append(i)\n",
    "L"
   ]
  },
  {
   "cell_type": "code",
   "execution_count": 42,
   "id": "635eaf3e",
   "metadata": {},
   "outputs": [
    {
     "name": "stdout",
     "output_type": "stream",
     "text": [
      "Qual a temperatura? 13\n",
      "Economize energia\n"
     ]
    }
   ],
   "source": [
    "#Exercício 6\n",
    "\n",
    "temp = float(input(\"Qual a temperatura? \"))\n",
    "if temp > 27:\n",
    "    print(\"Ligue o ar condicionado.\")\n",
    "else:\n",
    "    print(\"Economize energia\")"
   ]
  },
  {
   "cell_type": "code",
   "execution_count": 50,
   "id": "ae50a821",
   "metadata": {},
   "outputs": [
    {
     "name": "stdout",
     "output_type": "stream",
     "text": [
      "Digite o seu nome: Paulo Victor Damasceno e Silva\n",
      "Você possui 4 letras \"a\" no seu nome\n"
     ]
    }
   ],
   "source": [
    "#Exercício 7\n",
    "\n",
    "cont = 0\n",
    "Nome = (input(\"Digite o seu nome: \"))\n",
    "for i in Nome:\n",
    "    if i == \"a\":\n",
    "        cont += 1\n",
    "print('Você possui %i letras \"a\" no seu nome' %(cont))"
   ]
  }
 ],
 "metadata": {
  "kernelspec": {
   "display_name": "Python 3",
   "language": "python",
   "name": "python3"
  },
  "language_info": {
   "codemirror_mode": {
    "name": "ipython",
    "version": 3
   },
   "file_extension": ".py",
   "mimetype": "text/x-python",
   "name": "python",
   "nbconvert_exporter": "python",
   "pygments_lexer": "ipython3",
   "version": "3.8.8"
  }
 },
 "nbformat": 4,
 "nbformat_minor": 5
}
