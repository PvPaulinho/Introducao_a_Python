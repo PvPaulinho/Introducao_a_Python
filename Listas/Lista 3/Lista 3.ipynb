{
 "cells": [
  {
   "cell_type": "code",
   "execution_count": 2,
   "id": "a16add49",
   "metadata": {},
   "outputs": [
    {
     "name": "stdout",
     "output_type": "stream",
     "text": [
      "Introdução à Python - Lista 3\n",
      "Aluno: Paulo Victor Damasceno e Silva\n",
      "Matrícula: 174350045\n"
     ]
    }
   ],
   "source": [
    "print(\"Introdução à Python - Lista 3\")\n",
    "print(\"Aluno: Paulo Victor Damasceno e Silva\")\n",
    "print(\"Matrícula: 174350045\")"
   ]
  },
  {
   "cell_type": "code",
   "execution_count": 6,
   "id": "17c7152b",
   "metadata": {},
   "outputs": [
    {
     "name": "stdout",
     "output_type": "stream",
     "text": [
      "Digite a(s) palavra(s) que deseja colocar em maiúsculo: \n",
      "Paulo Victor Damasceno e Silva\n"
     ]
    },
    {
     "data": {
      "text/plain": [
       "'PAULO VICTOR DAMASCENO E SILVA'"
      ]
     },
     "execution_count": 6,
     "metadata": {},
     "output_type": "execute_result"
    }
   ],
   "source": [
    "#Exercício 1\n",
    "\n",
    "def maiúsculas (x):\n",
    "    X = x.upper()\n",
    "    return X\n",
    "\n",
    "print(\"Digite a(s) palavra(s) que deseja colocar em maiúsculo: \")\n",
    "x = input()\n",
    "maiúsculas(x)\n"
   ]
  },
  {
   "cell_type": "code",
   "execution_count": 11,
   "id": "c8bde502",
   "metadata": {},
   "outputs": [
    {
     "name": "stdout",
     "output_type": "stream",
     "text": [
      "Adicione o primeiro item: \n",
      "Descanso\n",
      "Adicione o segunto item: \n",
      "2\n"
     ]
    },
    {
     "data": {
      "text/plain": [
       "['Cerveja', 24, 'Trabalho', 5, 'Descanso', '2']"
      ]
     },
     "execution_count": 11,
     "metadata": {},
     "output_type": "execute_result"
    }
   ],
   "source": [
    "#Exercício 2\n",
    "\n",
    "def add2lista (lista):\n",
    "    print(\"Adicione o primeiro item: \")\n",
    "    e1 = input()\n",
    "    print(\"Adicione o segunto item: \")\n",
    "    e2 = input()\n",
    "    lista.append(e1)\n",
    "    lista.append(e2)\n",
    "    return lista\n",
    "\n",
    "lista = [\"Cerveja\", 24 , \"Trabalho\", 5]\n",
    "add2lista(lista)"
   ]
  },
  {
   "cell_type": "code",
   "execution_count": 26,
   "id": "89a62be0",
   "metadata": {},
   "outputs": [
    {
     "name": "stdout",
     "output_type": "stream",
     "text": [
      "Primeira entrada:  1\n",
      "Segunda entrada:  [1, 2, 3, 4]\n"
     ]
    }
   ],
   "source": [
    "#Exercício 3\n",
    "\n",
    "def chamada (x):\n",
    "    return x\n",
    "\n",
    "x = 1\n",
    "chamada(x)\n",
    "print(\"Primeira entrada: \", x)\n",
    "x = [1,2,3,4]\n",
    "chamada(x)\n",
    "print(\"Segunda entrada: \", x)"
   ]
  },
  {
   "cell_type": "code",
   "execution_count": 36,
   "id": "6a7cdfb2",
   "metadata": {},
   "outputs": [
    {
     "data": {
      "text/plain": [
       "1"
      ]
     },
     "execution_count": 36,
     "metadata": {},
     "output_type": "execute_result"
    }
   ],
   "source": [
    "#Exercício 4\n",
    "\n",
    "x = 2\n",
    "y = 1\n",
    "sub = lambda x,y : x-y\n",
    "sub(x,y)"
   ]
  },
  {
   "cell_type": "code",
   "execution_count": 37,
   "id": "ced473d3",
   "metadata": {},
   "outputs": [
    {
     "name": "stdout",
     "output_type": "stream",
     "text": [
      "Dentro da função o total é  30\n",
      "Fora da função o total é  0\n"
     ]
    }
   ],
   "source": [
    "#Exercício 5\n",
    "\n",
    "total = 0\n",
    "def soma(arg1,arg2):\n",
    "    total=arg1+arg2;\n",
    "    print(\"Dentro da função o total é \",total)\n",
    "    return total;\n",
    "\n",
    "soma(10,20);\n",
    "print(\"Fora da função o total é \",total)"
   ]
  }
 ],
 "metadata": {
  "kernelspec": {
   "display_name": "Python 3",
   "language": "python",
   "name": "python3"
  },
  "language_info": {
   "codemirror_mode": {
    "name": "ipython",
    "version": 3
   },
   "file_extension": ".py",
   "mimetype": "text/x-python",
   "name": "python",
   "nbconvert_exporter": "python",
   "pygments_lexer": "ipython3",
   "version": "3.8.8"
  }
 },
 "nbformat": 4,
 "nbformat_minor": 5
}
