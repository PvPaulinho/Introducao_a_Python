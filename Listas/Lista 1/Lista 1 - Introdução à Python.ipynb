{
 "cells": [
  {
   "cell_type": "code",
   "execution_count": 9,
   "id": "598a5346",
   "metadata": {},
   "outputs": [
    {
     "name": "stdout",
     "output_type": "stream",
     "text": [
      "Introdução à Python - Lista 1\n",
      "Aluno: Paulo Victor Damasceno e Silva\n",
      "Matrícula: 174350045\n"
     ]
    }
   ],
   "source": [
    "print(\"Introdução à Python - Lista 1\")\n",
    "print(\"Aluno: Paulo Victor Damasceno e Silva\")\n",
    "print(\"Matrícula: 174350045\")"
   ]
  },
  {
   "cell_type": "code",
   "execution_count": 5,
   "id": "07f2b56d",
   "metadata": {},
   "outputs": [
    {
     "data": {
      "text/plain": [
       "[1, 2, 3, 4, 5, 6, 7, 8, 9, 10]"
      ]
     },
     "execution_count": 5,
     "metadata": {},
     "output_type": "execute_result"
    }
   ],
   "source": [
    "#Exercício 1\n",
    "\n",
    "L1 = [1,2,3,4,5,6,7,8,9,10]\n",
    "L1"
   ]
  },
  {
   "cell_type": "code",
   "execution_count": 8,
   "id": "7b5536c8",
   "metadata": {},
   "outputs": [
    {
     "data": {
      "text/plain": [
       "['Cadermo', 'Notebook', 'Mouse', 'Caneta', 'Celular']"
      ]
     },
     "execution_count": 8,
     "metadata": {},
     "output_type": "execute_result"
    }
   ],
   "source": [
    "#Exercício 2\n",
    "\n",
    "L2 = [\"Cadermo\" , \"Notebook\" , \"Mouse\" , \"Caneta\" , \"Celular\"]\n",
    "L2"
   ]
  },
  {
   "cell_type": "code",
   "execution_count": 11,
   "id": "ef299e0a",
   "metadata": {},
   "outputs": [
    {
     "data": {
      "text/plain": [
       "'Introdução à Python'"
      ]
     },
     "execution_count": 11,
     "metadata": {},
     "output_type": "execute_result"
    }
   ],
   "source": [
    "#Exercício 3\n",
    "\n",
    "S1 = \"Introdução à \"\n",
    "S2 = \"Python\"\n",
    "S3 = S1+S2\n",
    "S3"
   ]
  },
  {
   "cell_type": "code",
   "execution_count": 16,
   "id": "2b78cb80",
   "metadata": {},
   "outputs": [
    {
     "data": {
      "text/plain": [
       "'s alunos da Marian'"
      ]
     },
     "execution_count": 16,
     "metadata": {},
     "output_type": "execute_result"
    }
   ],
   "source": [
    "#Exercício 4\n",
    "\n",
    "frase = 'Os alunos da Mariana Geny são os mais fofos e dedicados do CAP'\n",
    "frase[1:19]"
   ]
  }
 ],
 "metadata": {
  "kernelspec": {
   "display_name": "Python 3",
   "language": "python",
   "name": "python3"
  },
  "language_info": {
   "codemirror_mode": {
    "name": "ipython",
    "version": 3
   },
   "file_extension": ".py",
   "mimetype": "text/x-python",
   "name": "python",
   "nbconvert_exporter": "python",
   "pygments_lexer": "ipython3",
   "version": "3.8.8"
  }
 },
 "nbformat": 4,
 "nbformat_minor": 5
}
