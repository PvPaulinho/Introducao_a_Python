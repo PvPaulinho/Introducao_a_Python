{
 "cells": [
  {
   "cell_type": "code",
   "execution_count": 1,
   "id": "a8f425f7",
   "metadata": {},
   "outputs": [
    {
     "name": "stdout",
     "output_type": "stream",
     "text": [
      "Introdução à Python - Lista 3\n",
      "Aluno: Paulo Victor Damasceno e Silva\n",
      "Matrícula: 174350045\n"
     ]
    }
   ],
   "source": [
    "print(\"Introdução à Python - Lista 3\")\n",
    "print(\"Aluno: Paulo Victor Damasceno e Silva\")\n",
    "print(\"Matrícula: 174350045\")"
   ]
  },
  {
   "cell_type": "code",
   "execution_count": 57,
   "id": "fbd0a76d",
   "metadata": {},
   "outputs": [
    {
     "name": "stdout",
     "output_type": "stream",
     "text": [
      "Nome: Paulo Victor Damasceno e Silva\n"
     ]
    }
   ],
   "source": [
    "#Exercício 1\n",
    "\n",
    "arquivo = open(\"C:/Users/Admin/Desktop/backup/Facul/Período Atual/Introdução a Python/Listas/Lista 4/Dados.txt\", \"w\")\n",
    "arquivo.write(\"Nome: Paulo Victor Damasceno e Silva\")\n",
    "arquivo.close()\n",
    "arquivo = open(\"C:/Users/Admin/Desktop/backup/Facul/Período Atual/Introdução a Python/Listas/Lista 4/Dados.txt\", \"r\")\n",
    "print (arquivo.read())\n",
    "arquivo.close()"
   ]
  },
  {
   "cell_type": "code",
   "execution_count": 58,
   "id": "45a0354d",
   "metadata": {},
   "outputs": [
    {
     "name": "stdout",
     "output_type": "stream",
     "text": [
      "Nome: Paulo Victor Damasceno e Silva\n",
      "Data de nascimento: 03/10/1994\n",
      "Cidade natal: João Molevade\n",
      "Idade: 26 Anos\n"
     ]
    }
   ],
   "source": [
    "#Exercício 2\n",
    "\n",
    "arquivo = open(\"C:/Users/Admin/Desktop/backup/Facul/Período Atual/Introdução a Python/Listas/Lista 4/Dados.txt\", \"a\")\n",
    "arquivo.write(\"\\nData de nascimento: 03/10/1994\\nCidade natal: João Molevade\\nIdade: 26 Anos\")\n",
    "arquivo.close()\n",
    "arquivo = open(\"C:/Users/Admin/Desktop/backup/Facul/Período Atual/Introdução a Python/Listas/Lista 4/Dados.txt\", \"r\")\n",
    "print (arquivo.read())\n",
    "arquivo.close()"
   ]
  },
  {
   "cell_type": "code",
   "execution_count": null,
   "id": "eca8e4ef",
   "metadata": {},
   "outputs": [],
   "source": [
    "#Exercício 3\n",
    "\n",
    "arquivo2 = open(\"C:/Users/Admin/Desktop/backup/Facul/Período Atual/Introdução a Python/Listas/Lista 4/Contatos.txt\", \"w\")\n",
    "add = \"sim\"\n",
    "while (add == \"sim\"):\n",
    "    arquivo2.write(\"Nome          Telefone\\n\")\n",
    "    print(\"\\nDigite o nome do contato que deseja adicionar: \")\n",
    "    nome = input()\n",
    "    print(\"Digite o telefone do contato: \")\n",
    "    telefone = input()\n",
    "    arquivo2.write(nome + \"          \" + telefone + \"\\n\")\n",
    "    add = input(\"Você deseja adicionar um novo contato?(sim/não) \")\n",
    "arquivo2.close()"
   ]
  }
 ],
 "metadata": {
  "kernelspec": {
   "display_name": "Python 3",
   "language": "python",
   "name": "python3"
  },
  "language_info": {
   "codemirror_mode": {
    "name": "ipython",
    "version": 3
   },
   "file_extension": ".py",
   "mimetype": "text/x-python",
   "name": "python",
   "nbconvert_exporter": "python",
   "pygments_lexer": "ipython3",
   "version": "3.8.8"
  }
 },
 "nbformat": 4,
 "nbformat_minor": 5
}
