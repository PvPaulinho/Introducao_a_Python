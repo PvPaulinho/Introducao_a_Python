{
 "cells": [
  {
   "cell_type": "code",
   "execution_count": 1,
   "id": "560dd294",
   "metadata": {},
   "outputs": [
    {
     "name": "stdout",
     "output_type": "stream",
     "text": [
      "Introdução à Python - Lista 4\n",
      "Aluno: Paulo Victor Damasceno e Silva\n",
      "Matrícula: 174350045\n"
     ]
    }
   ],
   "source": [
    "print(\"Introdução à Python - Lista 4\")\n",
    "print(\"Aluno: Paulo Victor Damasceno e Silva\")\n",
    "print(\"Matrícula: 174350045\")"
   ]
  },
  {
   "cell_type": "code",
   "execution_count": 2,
   "id": "63dccaea",
   "metadata": {},
   "outputs": [
    {
     "name": "stdout",
     "output_type": "stream",
     "text": [
      "Nome: Paulo Victor Damasceno e Silva\n"
     ]
    }
   ],
   "source": [
    "#Exercício 1\n",
    "\n",
    "arquivo = open(\"C:/Users/Admin/Desktop/backup/Facul/Período Atual/Introdução a Python/Listas/Lista 4/Dados.txt\", \"w\")\n",
    "arquivo.write(\"Nome: Paulo Victor Damasceno e Silva\")\n",
    "arquivo.close()\n",
    "arquivo = open(\"C:/Users/Admin/Desktop/backup/Facul/Período Atual/Introdução a Python/Listas/Lista 4/Dados.txt\", \"r\")\n",
    "print (arquivo.read())\n",
    "arquivo.close()"
   ]
  },
  {
   "cell_type": "code",
   "execution_count": 3,
   "id": "e6484a62",
   "metadata": {},
   "outputs": [
    {
     "name": "stdout",
     "output_type": "stream",
     "text": [
      "Nome: Paulo Victor Damasceno e Silva\n",
      "Data de nascimento: 03/10/1994\n",
      "Cidade natal: João Molevade\n",
      "Idade: 26 Anos\n"
     ]
    }
   ],
   "source": [
    "#Exercício 2\n",
    "\n",
    "arquivo = open(\"C:/Users/Admin/Desktop/backup/Facul/Período Atual/Introdução a Python/Listas/Lista 4/Dados.txt\", \"a\")\n",
    "arquivo.write(\"\\nData de nascimento: 03/10/1994\\nCidade natal: João Molevade\\nIdade: 26 Anos\")\n",
    "arquivo.close()\n",
    "arquivo = open(\"C:/Users/Admin/Desktop/backup/Facul/Período Atual/Introdução a Python/Listas/Lista 4/Dados.txt\", \"r\")\n",
    "print (arquivo.read())\n",
    "arquivo.close()"
   ]
  },
  {
   "cell_type": "code",
   "execution_count": 9,
   "id": "3966acda",
   "metadata": {},
   "outputs": [
    {
     "name": "stdout",
     "output_type": "stream",
     "text": [
      "\n",
      "Digite o nome do contato que deseja adicionar: \n",
      "Paulo\n",
      "Digite o telefone do contato: \n",
      "993969197\n",
      "Você deseja adicionar um novo contato?(sim/não) sim\n",
      "\n",
      "Digite o nome do contato que deseja adicionar: \n",
      "Amor\n",
      "Digite o telefone do contato: \n",
      "986963904\n",
      "Você deseja adicionar um novo contato?(sim/não) sim\n",
      "\n",
      "Digite o nome do contato que deseja adicionar: \n",
      "Mãe\n",
      "Digite o telefone do contato: \n",
      "988411738\n",
      "Você deseja adicionar um novo contato?(sim/não) não\n"
     ]
    }
   ],
   "source": [
    "#Exercício 3\n",
    "\n",
    "arquivo2 = open(\"C:/Users/Admin/Desktop/backup/Facul/Período Atual/Introdução a Python/Listas/Lista 4/Contatos.txt\", \"w\")\n",
    "add = \"sim\"\n",
    "arquivo2.write(\"Nome          Telefone\\n\")\n",
    "while (add == \"sim\"):\n",
    "    print(\"\\nDigite o nome do contato que deseja adicionar: \")\n",
    "    nome = input()\n",
    "    print(\"Digite o telefone do contato: \")\n",
    "    telefone = input()\n",
    "    arquivo2.write(nome + \"          \" + telefone + \"\\n\")\n",
    "    add = input(\"Você deseja adicionar um novo contato?(sim/não) \")\n",
    "arquivo2.close()"
   ]
  },
  {
   "cell_type": "code",
   "execution_count": 11,
   "id": "6ec0871b",
   "metadata": {},
   "outputs": [
    {
     "name": "stdout",
     "output_type": "stream",
     "text": [
      "Nome          Telefone\n",
      "Paulo          993969197\n",
      "Amor          986963904\n",
      "Mãe          988411738\n",
      "\n"
     ]
    }
   ],
   "source": [
    "#Exercício 4\n",
    "\n",
    "arquivo2 = open(\"C:/Users/Admin/Desktop/backup/Facul/Período Atual/Introdução a Python/Listas/Lista 4/Contatos.txt\", \"r\")\n",
    "texto = arquivo2.read()\n",
    "print(texto)\n",
    "arquivo2.close()"
   ]
  }
 ],
 "metadata": {
  "kernelspec": {
   "display_name": "Python 3",
   "language": "python",
   "name": "python3"
  },
  "language_info": {
   "codemirror_mode": {
    "name": "ipython",
    "version": 3
   },
   "file_extension": ".py",
   "mimetype": "text/x-python",
   "name": "python",
   "nbconvert_exporter": "python",
   "pygments_lexer": "ipython3",
   "version": "3.8.8"
  }
 },
 "nbformat": 4,
 "nbformat_minor": 5
}
